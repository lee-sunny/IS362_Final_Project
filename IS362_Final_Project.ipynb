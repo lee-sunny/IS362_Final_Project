{
 "cells": [
  {
   "cell_type": "markdown",
   "metadata": {},
   "source": [
    "# IS 362 - Final Project\n",
    "Sunah Lee\n",
    "\n",
    "For my final project, I will analyze NYPD 311 Service Requests from January to April 2019 and January to April 2020, both datasets from NYC Open Data.\n",
    "The data includes when the 311 service requests were created, when it was closed, and what kind of complaint it was. I hope to portray an accurate and visual analysis of the data, and especially show how the data changed (if it did at all) since the COVID-19 quarantine was put in place in NYC.\n",
    "\n",
    "#### Import the data \n",
    "Data from: https://data.cityofnewyork.us/Social-Services/311-Service-Requests-from-2010-to-Present/erm2-nwe9/data"
   ]
  },
  {
   "cell_type": "code",
   "execution_count": 15,
   "metadata": {
    "scrolled": true
   },
   "outputs": [
    {
     "data": {
      "text/html": [
       "<div>\n",
       "<style scoped>\n",
       "    .dataframe tbody tr th:only-of-type {\n",
       "        vertical-align: middle;\n",
       "    }\n",
       "\n",
       "    .dataframe tbody tr th {\n",
       "        vertical-align: top;\n",
       "    }\n",
       "\n",
       "    .dataframe thead th {\n",
       "        text-align: right;\n",
       "    }\n",
       "</style>\n",
       "<table border=\"1\" class=\"dataframe\">\n",
       "  <thead>\n",
       "    <tr style=\"text-align: right;\">\n",
       "      <th></th>\n",
       "      <th>Unique_Key</th>\n",
       "      <th>Created_date</th>\n",
       "      <th>Closed_Date</th>\n",
       "      <th>Agency</th>\n",
       "      <th>Agency_Name</th>\n",
       "      <th>Complaint_Type</th>\n",
       "      <th>Descriptor</th>\n",
       "      <th>Location Type</th>\n",
       "      <th>Incident_Zip</th>\n",
       "      <th>Incident Address</th>\n",
       "      <th>...</th>\n",
       "      <th>Vehicle Type</th>\n",
       "      <th>Taxi Company Borough</th>\n",
       "      <th>Taxi Pick Up Location</th>\n",
       "      <th>Bridge Highway Name</th>\n",
       "      <th>Bridge Highway Direction</th>\n",
       "      <th>Road Ramp</th>\n",
       "      <th>Bridge Highway Segment</th>\n",
       "      <th>Latitude</th>\n",
       "      <th>Longitude</th>\n",
       "      <th>Location</th>\n",
       "    </tr>\n",
       "  </thead>\n",
       "  <tbody>\n",
       "    <tr>\n",
       "      <th>0</th>\n",
       "      <td>45309507</td>\n",
       "      <td>5-Jan-20</td>\n",
       "      <td>5-Jan-20</td>\n",
       "      <td>NYPD</td>\n",
       "      <td>New York City Police Department</td>\n",
       "      <td>Noise - Street/Sidewalk</td>\n",
       "      <td>Loud Talking</td>\n",
       "      <td>Street/Sidewalk</td>\n",
       "      <td>10038.0</td>\n",
       "      <td>111 JOHN STREET</td>\n",
       "      <td>...</td>\n",
       "      <td>NaN</td>\n",
       "      <td>NaN</td>\n",
       "      <td>NaN</td>\n",
       "      <td>NaN</td>\n",
       "      <td>NaN</td>\n",
       "      <td>NaN</td>\n",
       "      <td>NaN</td>\n",
       "      <td>40.707671</td>\n",
       "      <td>-74.005764</td>\n",
       "      <td>(40.70767058299684, -74.00576377348087)</td>\n",
       "    </tr>\n",
       "    <tr>\n",
       "      <th>1</th>\n",
       "      <td>45309521</td>\n",
       "      <td>5-Jan-20</td>\n",
       "      <td>5-Jan-20</td>\n",
       "      <td>NYPD</td>\n",
       "      <td>New York City Police Department</td>\n",
       "      <td>Noise - Vehicle</td>\n",
       "      <td>Car/Truck Music</td>\n",
       "      <td>Street/Sidewalk</td>\n",
       "      <td>11422.0</td>\n",
       "      <td>259-04 147 AVENUE</td>\n",
       "      <td>...</td>\n",
       "      <td>NaN</td>\n",
       "      <td>NaN</td>\n",
       "      <td>NaN</td>\n",
       "      <td>NaN</td>\n",
       "      <td>NaN</td>\n",
       "      <td>NaN</td>\n",
       "      <td>NaN</td>\n",
       "      <td>40.657422</td>\n",
       "      <td>-73.729317</td>\n",
       "      <td>(40.65742207878771, -73.72931707709266)</td>\n",
       "    </tr>\n",
       "    <tr>\n",
       "      <th>2</th>\n",
       "      <td>45309523</td>\n",
       "      <td>4-Jan-20</td>\n",
       "      <td>5-Jan-20</td>\n",
       "      <td>NYPD</td>\n",
       "      <td>New York City Police Department</td>\n",
       "      <td>Illegal Parking</td>\n",
       "      <td>Blocked Hydrant</td>\n",
       "      <td>Street/Sidewalk</td>\n",
       "      <td>11220.0</td>\n",
       "      <td>255 56 STREET</td>\n",
       "      <td>...</td>\n",
       "      <td>NaN</td>\n",
       "      <td>NaN</td>\n",
       "      <td>NaN</td>\n",
       "      <td>NaN</td>\n",
       "      <td>NaN</td>\n",
       "      <td>NaN</td>\n",
       "      <td>NaN</td>\n",
       "      <td>40.645055</td>\n",
       "      <td>-74.019275</td>\n",
       "      <td>(40.64505532105482, -74.01927502636711)</td>\n",
       "    </tr>\n",
       "    <tr>\n",
       "      <th>3</th>\n",
       "      <td>45309525</td>\n",
       "      <td>4-Jan-20</td>\n",
       "      <td>5-Jan-20</td>\n",
       "      <td>NYPD</td>\n",
       "      <td>New York City Police Department</td>\n",
       "      <td>Abandoned Vehicle</td>\n",
       "      <td>With License Plate</td>\n",
       "      <td>NaN</td>\n",
       "      <td>11232.0</td>\n",
       "      <td>168 35 STREET</td>\n",
       "      <td>...</td>\n",
       "      <td>NaN</td>\n",
       "      <td>NaN</td>\n",
       "      <td>NaN</td>\n",
       "      <td>NaN</td>\n",
       "      <td>NaN</td>\n",
       "      <td>NaN</td>\n",
       "      <td>NaN</td>\n",
       "      <td>40.655654</td>\n",
       "      <td>-74.005143</td>\n",
       "      <td>(40.65565442769171, -74.00514298605677)</td>\n",
       "    </tr>\n",
       "    <tr>\n",
       "      <th>4</th>\n",
       "      <td>45309526</td>\n",
       "      <td>5-Jan-20</td>\n",
       "      <td>5-Jan-20</td>\n",
       "      <td>NYPD</td>\n",
       "      <td>New York City Police Department</td>\n",
       "      <td>Noise - Residential</td>\n",
       "      <td>Banging/Pounding</td>\n",
       "      <td>Residential Building/House</td>\n",
       "      <td>10314.0</td>\n",
       "      <td>51 BERESFORD AVENUE</td>\n",
       "      <td>...</td>\n",
       "      <td>NaN</td>\n",
       "      <td>NaN</td>\n",
       "      <td>NaN</td>\n",
       "      <td>NaN</td>\n",
       "      <td>NaN</td>\n",
       "      <td>NaN</td>\n",
       "      <td>NaN</td>\n",
       "      <td>40.588051</td>\n",
       "      <td>-74.189418</td>\n",
       "      <td>(40.58805066306424, -74.18941751780291)</td>\n",
       "    </tr>\n",
       "  </tbody>\n",
       "</table>\n",
       "<p>5 rows × 41 columns</p>\n",
       "</div>"
      ],
      "text/plain": [
       "   Unique_Key Created_date Closed_Date Agency  \\\n",
       "0    45309507     5-Jan-20    5-Jan-20   NYPD   \n",
       "1    45309521     5-Jan-20    5-Jan-20   NYPD   \n",
       "2    45309523     4-Jan-20    5-Jan-20   NYPD   \n",
       "3    45309525     4-Jan-20    5-Jan-20   NYPD   \n",
       "4    45309526     5-Jan-20    5-Jan-20   NYPD   \n",
       "\n",
       "                       Agency_Name           Complaint_Type  \\\n",
       "0  New York City Police Department  Noise - Street/Sidewalk   \n",
       "1  New York City Police Department          Noise - Vehicle   \n",
       "2  New York City Police Department          Illegal Parking   \n",
       "3  New York City Police Department        Abandoned Vehicle   \n",
       "4  New York City Police Department      Noise - Residential   \n",
       "\n",
       "           Descriptor               Location Type  Incident_Zip  \\\n",
       "0        Loud Talking             Street/Sidewalk       10038.0   \n",
       "1     Car/Truck Music             Street/Sidewalk       11422.0   \n",
       "2     Blocked Hydrant             Street/Sidewalk       11220.0   \n",
       "3  With License Plate                         NaN       11232.0   \n",
       "4    Banging/Pounding  Residential Building/House       10314.0   \n",
       "\n",
       "      Incident Address  ... Vehicle Type Taxi Company Borough  \\\n",
       "0      111 JOHN STREET  ...          NaN                  NaN   \n",
       "1    259-04 147 AVENUE  ...          NaN                  NaN   \n",
       "2        255 56 STREET  ...          NaN                  NaN   \n",
       "3        168 35 STREET  ...          NaN                  NaN   \n",
       "4  51 BERESFORD AVENUE  ...          NaN                  NaN   \n",
       "\n",
       "  Taxi Pick Up Location Bridge Highway Name Bridge Highway Direction  \\\n",
       "0                   NaN                 NaN                      NaN   \n",
       "1                   NaN                 NaN                      NaN   \n",
       "2                   NaN                 NaN                      NaN   \n",
       "3                   NaN                 NaN                      NaN   \n",
       "4                   NaN                 NaN                      NaN   \n",
       "\n",
       "  Road Ramp Bridge Highway Segment   Latitude  Longitude  \\\n",
       "0       NaN                    NaN  40.707671 -74.005764   \n",
       "1       NaN                    NaN  40.657422 -73.729317   \n",
       "2       NaN                    NaN  40.645055 -74.019275   \n",
       "3       NaN                    NaN  40.655654 -74.005143   \n",
       "4       NaN                    NaN  40.588051 -74.189418   \n",
       "\n",
       "                                  Location  \n",
       "0  (40.70767058299684, -74.00576377348087)  \n",
       "1  (40.65742207878771, -73.72931707709266)  \n",
       "2  (40.64505532105482, -74.01927502636711)  \n",
       "3  (40.65565442769171, -74.00514298605677)  \n",
       "4  (40.58805066306424, -74.18941751780291)  \n",
       "\n",
       "[5 rows x 41 columns]"
      ]
     },
     "execution_count": 15,
     "metadata": {},
     "output_type": "execute_result"
    }
   ],
   "source": [
    "import pandas as pd\n",
    "import numpy as np\n",
    "import html5lib\n",
    "import matplotlib.pyplot as plt\n",
    "from matplotlib.pyplot import pie, axis, show\n",
    "%matplotlib inline\n",
    "\n",
    "service_requests = pd.read_csv(\"311_Service_Requests_from_2019_2020.csv\", engine='python')\n",
    "service_requests.head()"
   ]
  },
  {
   "cell_type": "markdown",
   "metadata": {},
   "source": [
    "#### Review the data and look for missing information"
   ]
  },
  {
   "cell_type": "code",
   "execution_count": 16,
   "metadata": {
    "scrolled": true
   },
   "outputs": [
    {
     "data": {
      "text/plain": [
       "Unique_Key                        476409\n",
       "Created_date                      476409\n",
       "Closed_Date                       474852\n",
       "Agency                            476409\n",
       "Agency_Name                       476409\n",
       "Complaint_Type                    476409\n",
       "Descriptor                        471191\n",
       "Location Type                     438320\n",
       "Incident_Zip                      475831\n",
       "Incident Address                  459253\n",
       "Street Name                       459248\n",
       "Cross Street 1                    457133\n",
       "Cross Street 2                    456887\n",
       "Intersection Street 1             266749\n",
       "Intersection Street 2             266478\n",
       "Address Type                      225278\n",
       "City                              461761\n",
       "Landmark                          236513\n",
       "Facility Type                     225047\n",
       "Status                            476409\n",
       "Due Date                          225588\n",
       "Resolution Description            474985\n",
       "Resolution Action Updated Date    475012\n",
       "Community Board                   476409\n",
       "BBL                               426569\n",
       "Borough                           476409\n",
       "X Coordinate (State Plane)        473607\n",
       "Y Coordinate (State Plane)        473607\n",
       "Open Data Channel Type            476409\n",
       "Park Facility Name                476409\n",
       "Park Borough                      476409\n",
       "Vehicle Type                           0\n",
       "Taxi Company Borough                   0\n",
       "Taxi Pick Up Location                  0\n",
       "Bridge Highway Name                   49\n",
       "Bridge Highway Direction             142\n",
       "Road Ramp                            140\n",
       "Bridge Highway Segment               140\n",
       "Latitude                          473607\n",
       "Longitude                         473607\n",
       "Location                          473607\n",
       "dtype: int64"
      ]
     },
     "execution_count": 16,
     "metadata": {},
     "output_type": "execute_result"
    }
   ],
   "source": [
    "service_requests.count()"
   ]
  },
  {
   "cell_type": "markdown",
   "metadata": {},
   "source": [
    "#### Display only the columns needed\n",
    "Columns needes are unique_key, created_date, closed_date, agency, agency_name, complaint_type, incident_zip. I also separated the 'created_date' column into 'created_Year', 'created_Month', and 'created_date'."
   ]
  },
  {
   "cell_type": "code",
   "execution_count": 17,
   "metadata": {
    "scrolled": false
   },
   "outputs": [
    {
     "data": {
      "text/html": [
       "<div>\n",
       "<style scoped>\n",
       "    .dataframe tbody tr th:only-of-type {\n",
       "        vertical-align: middle;\n",
       "    }\n",
       "\n",
       "    .dataframe tbody tr th {\n",
       "        vertical-align: top;\n",
       "    }\n",
       "\n",
       "    .dataframe thead th {\n",
       "        text-align: right;\n",
       "    }\n",
       "</style>\n",
       "<table border=\"1\" class=\"dataframe\">\n",
       "  <thead>\n",
       "    <tr style=\"text-align: right;\">\n",
       "      <th></th>\n",
       "      <th>Unique_Key</th>\n",
       "      <th>created_Year</th>\n",
       "      <th>created_Month</th>\n",
       "      <th>Closed_Date</th>\n",
       "      <th>Agency</th>\n",
       "      <th>Agency_Name</th>\n",
       "      <th>Complaint_Type</th>\n",
       "      <th>Status</th>\n",
       "      <th>Incident_Zip</th>\n",
       "    </tr>\n",
       "  </thead>\n",
       "  <tbody>\n",
       "    <tr>\n",
       "      <th>0</th>\n",
       "      <td>45309507</td>\n",
       "      <td>20</td>\n",
       "      <td>Jan</td>\n",
       "      <td>5-Jan-20</td>\n",
       "      <td>NYPD</td>\n",
       "      <td>New York City Police Department</td>\n",
       "      <td>Noise</td>\n",
       "      <td>Closed</td>\n",
       "      <td>10038.0</td>\n",
       "    </tr>\n",
       "    <tr>\n",
       "      <th>1</th>\n",
       "      <td>45309521</td>\n",
       "      <td>20</td>\n",
       "      <td>Jan</td>\n",
       "      <td>5-Jan-20</td>\n",
       "      <td>NYPD</td>\n",
       "      <td>New York City Police Department</td>\n",
       "      <td>Noise</td>\n",
       "      <td>Closed</td>\n",
       "      <td>11422.0</td>\n",
       "    </tr>\n",
       "    <tr>\n",
       "      <th>2</th>\n",
       "      <td>45309523</td>\n",
       "      <td>20</td>\n",
       "      <td>Jan</td>\n",
       "      <td>5-Jan-20</td>\n",
       "      <td>NYPD</td>\n",
       "      <td>New York City Police Department</td>\n",
       "      <td>Illegal Parking</td>\n",
       "      <td>Closed</td>\n",
       "      <td>11220.0</td>\n",
       "    </tr>\n",
       "    <tr>\n",
       "      <th>3</th>\n",
       "      <td>45309525</td>\n",
       "      <td>20</td>\n",
       "      <td>Jan</td>\n",
       "      <td>5-Jan-20</td>\n",
       "      <td>NYPD</td>\n",
       "      <td>New York City Police Department</td>\n",
       "      <td>Abandoned Vehicle</td>\n",
       "      <td>Closed</td>\n",
       "      <td>11232.0</td>\n",
       "    </tr>\n",
       "    <tr>\n",
       "      <th>4</th>\n",
       "      <td>45309526</td>\n",
       "      <td>20</td>\n",
       "      <td>Jan</td>\n",
       "      <td>5-Jan-20</td>\n",
       "      <td>NYPD</td>\n",
       "      <td>New York City Police Department</td>\n",
       "      <td>Noise</td>\n",
       "      <td>Closed</td>\n",
       "      <td>10314.0</td>\n",
       "    </tr>\n",
       "    <tr>\n",
       "      <th>5</th>\n",
       "      <td>45309529</td>\n",
       "      <td>20</td>\n",
       "      <td>Jan</td>\n",
       "      <td>5-Jan-20</td>\n",
       "      <td>NYPD</td>\n",
       "      <td>New York City Police Department</td>\n",
       "      <td>Noise</td>\n",
       "      <td>Closed</td>\n",
       "      <td>11103.0</td>\n",
       "    </tr>\n",
       "    <tr>\n",
       "      <th>6</th>\n",
       "      <td>45309530</td>\n",
       "      <td>20</td>\n",
       "      <td>Jan</td>\n",
       "      <td>5-Jan-20</td>\n",
       "      <td>NYPD</td>\n",
       "      <td>New York City Police Department</td>\n",
       "      <td>Noise</td>\n",
       "      <td>Closed</td>\n",
       "      <td>11106.0</td>\n",
       "    </tr>\n",
       "    <tr>\n",
       "      <th>7</th>\n",
       "      <td>45309532</td>\n",
       "      <td>20</td>\n",
       "      <td>Jan</td>\n",
       "      <td>5-Jan-20</td>\n",
       "      <td>NYPD</td>\n",
       "      <td>New York City Police Department</td>\n",
       "      <td>Noise</td>\n",
       "      <td>Closed</td>\n",
       "      <td>11203.0</td>\n",
       "    </tr>\n",
       "    <tr>\n",
       "      <th>8</th>\n",
       "      <td>45309534</td>\n",
       "      <td>20</td>\n",
       "      <td>Jan</td>\n",
       "      <td>5-Jan-20</td>\n",
       "      <td>NYPD</td>\n",
       "      <td>New York City Police Department</td>\n",
       "      <td>Noise</td>\n",
       "      <td>Closed</td>\n",
       "      <td>11102.0</td>\n",
       "    </tr>\n",
       "    <tr>\n",
       "      <th>9</th>\n",
       "      <td>45302330</td>\n",
       "      <td>20</td>\n",
       "      <td>Jan</td>\n",
       "      <td>5-Jan-20</td>\n",
       "      <td>NYPD</td>\n",
       "      <td>New York City Police Department</td>\n",
       "      <td>Blocked Driveway</td>\n",
       "      <td>Closed</td>\n",
       "      <td>11236.0</td>\n",
       "    </tr>\n",
       "  </tbody>\n",
       "</table>\n",
       "</div>"
      ],
      "text/plain": [
       "   Unique_Key created_Year created_Month Closed_Date Agency  \\\n",
       "0    45309507           20           Jan    5-Jan-20   NYPD   \n",
       "1    45309521           20           Jan    5-Jan-20   NYPD   \n",
       "2    45309523           20           Jan    5-Jan-20   NYPD   \n",
       "3    45309525           20           Jan    5-Jan-20   NYPD   \n",
       "4    45309526           20           Jan    5-Jan-20   NYPD   \n",
       "5    45309529           20           Jan    5-Jan-20   NYPD   \n",
       "6    45309530           20           Jan    5-Jan-20   NYPD   \n",
       "7    45309532           20           Jan    5-Jan-20   NYPD   \n",
       "8    45309534           20           Jan    5-Jan-20   NYPD   \n",
       "9    45302330           20           Jan    5-Jan-20   NYPD   \n",
       "\n",
       "                       Agency_Name     Complaint_Type  Status  Incident_Zip  \n",
       "0  New York City Police Department             Noise   Closed       10038.0  \n",
       "1  New York City Police Department             Noise   Closed       11422.0  \n",
       "2  New York City Police Department    Illegal Parking  Closed       11220.0  \n",
       "3  New York City Police Department  Abandoned Vehicle  Closed       11232.0  \n",
       "4  New York City Police Department             Noise   Closed       10314.0  \n",
       "5  New York City Police Department             Noise   Closed       11103.0  \n",
       "6  New York City Police Department             Noise   Closed       11106.0  \n",
       "7  New York City Police Department             Noise   Closed       11203.0  \n",
       "8  New York City Police Department             Noise   Closed       11102.0  \n",
       "9  New York City Police Department   Blocked Driveway  Closed       11236.0  "
      ]
     },
     "execution_count": 17,
     "metadata": {},
     "output_type": "execute_result"
    }
   ],
   "source": [
    "df = pd.DataFrame(service_requests)\n",
    "df[['created_date','created_Month', 'created_Year']] = df.Created_date.str.split(\"-\",expand=True,)\n",
    "df[['Complaint_Type','complaint_detail']] = df.Complaint_Type.str.split(\"-\",expand=True,)\n",
    "output = (df[['Unique_Key', 'created_Year', 'created_Month', 'Closed_Date', 'Agency', 'Agency_Name', 'Complaint_Type', 'Status', 'Incident_Zip']])\n",
    "output.head(10)"
   ]
  },
  {
   "cell_type": "markdown",
   "metadata": {},
   "source": [
    "#### Compare the number of service requests from 2019 and 2020"
   ]
  },
  {
   "cell_type": "code",
   "execution_count": 18,
   "metadata": {
    "scrolled": true
   },
   "outputs": [
    {
     "data": {
      "text/html": [
       "<div>\n",
       "<style scoped>\n",
       "    .dataframe tbody tr th:only-of-type {\n",
       "        vertical-align: middle;\n",
       "    }\n",
       "\n",
       "    .dataframe tbody tr th {\n",
       "        vertical-align: top;\n",
       "    }\n",
       "\n",
       "    .dataframe thead th {\n",
       "        text-align: right;\n",
       "    }\n",
       "</style>\n",
       "<table border=\"1\" class=\"dataframe\">\n",
       "  <thead>\n",
       "    <tr style=\"text-align: right;\">\n",
       "      <th></th>\n",
       "      <th></th>\n",
       "      <th>Unique_Key</th>\n",
       "      <th>Closed_Date</th>\n",
       "      <th>Agency</th>\n",
       "      <th>Agency_Name</th>\n",
       "      <th>Complaint_Type</th>\n",
       "      <th>Status</th>\n",
       "      <th>Incident_Zip</th>\n",
       "    </tr>\n",
       "    <tr>\n",
       "      <th>created_Year</th>\n",
       "      <th>created_Month</th>\n",
       "      <th></th>\n",
       "      <th></th>\n",
       "      <th></th>\n",
       "      <th></th>\n",
       "      <th></th>\n",
       "      <th></th>\n",
       "      <th></th>\n",
       "    </tr>\n",
       "  </thead>\n",
       "  <tbody>\n",
       "    <tr>\n",
       "      <th rowspan=\"4\" valign=\"top\">19</th>\n",
       "      <th>Apr</th>\n",
       "      <td>62936</td>\n",
       "      <td>62936</td>\n",
       "      <td>62936</td>\n",
       "      <td>62936</td>\n",
       "      <td>62936</td>\n",
       "      <td>62936</td>\n",
       "      <td>62844</td>\n",
       "    </tr>\n",
       "    <tr>\n",
       "      <th>Feb</th>\n",
       "      <td>48961</td>\n",
       "      <td>48961</td>\n",
       "      <td>48961</td>\n",
       "      <td>48961</td>\n",
       "      <td>48961</td>\n",
       "      <td>48961</td>\n",
       "      <td>48901</td>\n",
       "    </tr>\n",
       "    <tr>\n",
       "      <th>Jan</th>\n",
       "      <td>53147</td>\n",
       "      <td>53147</td>\n",
       "      <td>53147</td>\n",
       "      <td>53147</td>\n",
       "      <td>53147</td>\n",
       "      <td>53147</td>\n",
       "      <td>53093</td>\n",
       "    </tr>\n",
       "    <tr>\n",
       "      <th>Mar</th>\n",
       "      <td>60545</td>\n",
       "      <td>60545</td>\n",
       "      <td>60545</td>\n",
       "      <td>60545</td>\n",
       "      <td>60545</td>\n",
       "      <td>60545</td>\n",
       "      <td>60480</td>\n",
       "    </tr>\n",
       "    <tr>\n",
       "      <th rowspan=\"4\" valign=\"top\">20</th>\n",
       "      <th>Apr</th>\n",
       "      <td>70793</td>\n",
       "      <td>70483</td>\n",
       "      <td>70793</td>\n",
       "      <td>70793</td>\n",
       "      <td>70793</td>\n",
       "      <td>70793</td>\n",
       "      <td>70559</td>\n",
       "    </tr>\n",
       "    <tr>\n",
       "      <th>Feb</th>\n",
       "      <td>57201</td>\n",
       "      <td>56513</td>\n",
       "      <td>57201</td>\n",
       "      <td>57201</td>\n",
       "      <td>57201</td>\n",
       "      <td>57201</td>\n",
       "      <td>57179</td>\n",
       "    </tr>\n",
       "    <tr>\n",
       "      <th>Jan</th>\n",
       "      <td>62961</td>\n",
       "      <td>62418</td>\n",
       "      <td>62961</td>\n",
       "      <td>62961</td>\n",
       "      <td>62961</td>\n",
       "      <td>62961</td>\n",
       "      <td>62932</td>\n",
       "    </tr>\n",
       "    <tr>\n",
       "      <th>Mar</th>\n",
       "      <td>59865</td>\n",
       "      <td>59849</td>\n",
       "      <td>59865</td>\n",
       "      <td>59865</td>\n",
       "      <td>59865</td>\n",
       "      <td>59865</td>\n",
       "      <td>59843</td>\n",
       "    </tr>\n",
       "  </tbody>\n",
       "</table>\n",
       "</div>"
      ],
      "text/plain": [
       "                            Unique_Key  Closed_Date  Agency  Agency_Name  \\\n",
       "created_Year created_Month                                                 \n",
       "19           Apr                 62936        62936   62936        62936   \n",
       "             Feb                 48961        48961   48961        48961   \n",
       "             Jan                 53147        53147   53147        53147   \n",
       "             Mar                 60545        60545   60545        60545   \n",
       "20           Apr                 70793        70483   70793        70793   \n",
       "             Feb                 57201        56513   57201        57201   \n",
       "             Jan                 62961        62418   62961        62961   \n",
       "             Mar                 59865        59849   59865        59865   \n",
       "\n",
       "                            Complaint_Type  Status  Incident_Zip  \n",
       "created_Year created_Month                                        \n",
       "19           Apr                     62936   62936         62844  \n",
       "             Feb                     48961   48961         48901  \n",
       "             Jan                     53147   53147         53093  \n",
       "             Mar                     60545   60545         60480  \n",
       "20           Apr                     70793   70793         70559  \n",
       "             Feb                     57201   57201         57179  \n",
       "             Jan                     62961   62961         62932  \n",
       "             Mar                     59865   59865         59843  "
      ]
     },
     "execution_count": 18,
     "metadata": {},
     "output_type": "execute_result"
    }
   ],
   "source": [
    "output.groupby(['created_Year', 'created_Month']).count()"
   ]
  },
  {
   "cell_type": "code",
   "execution_count": 19,
   "metadata": {
    "scrolled": true
   },
   "outputs": [
    {
     "data": {
      "text/html": [
       "<div>\n",
       "<style scoped>\n",
       "    .dataframe tbody tr th:only-of-type {\n",
       "        vertical-align: middle;\n",
       "    }\n",
       "\n",
       "    .dataframe tbody tr th {\n",
       "        vertical-align: top;\n",
       "    }\n",
       "\n",
       "    .dataframe thead th {\n",
       "        text-align: right;\n",
       "    }\n",
       "</style>\n",
       "<table border=\"1\" class=\"dataframe\">\n",
       "  <thead>\n",
       "    <tr style=\"text-align: right;\">\n",
       "      <th></th>\n",
       "      <th>created_Year</th>\n",
       "    </tr>\n",
       "    <tr>\n",
       "      <th>created_Year</th>\n",
       "      <th></th>\n",
       "    </tr>\n",
       "  </thead>\n",
       "  <tbody>\n",
       "    <tr>\n",
       "      <th>19</th>\n",
       "      <td>225589</td>\n",
       "    </tr>\n",
       "    <tr>\n",
       "      <th>20</th>\n",
       "      <td>250820</td>\n",
       "    </tr>\n",
       "  </tbody>\n",
       "</table>\n",
       "</div>"
      ],
      "text/plain": [
       "              created_Year\n",
       "created_Year              \n",
       "19                  225589\n",
       "20                  250820"
      ]
     },
     "execution_count": 19,
     "metadata": {},
     "output_type": "execute_result"
    }
   ],
   "source": [
    "yearly_data = service_requests.groupby('created_Year').created_Year.count()\n",
    "df = pd.DataFrame(yearly_data)\n",
    "df"
   ]
  },
  {
   "cell_type": "code",
   "execution_count": 20,
   "metadata": {},
   "outputs": [
    {
     "data": {
      "text/plain": [
       "Text(0, 0.5, 'Service Requests')"
      ]
     },
     "execution_count": 20,
     "metadata": {},
     "output_type": "execute_result"
    },
    {
     "data": {
      "image/png": "[encoded data removed]",
      "text/plain": [
       "<Figure size 432x288 with 1 Axes>"
      ]
     },
     "metadata": {
      "needs_background": "light"
     },
     "output_type": "display_data"
    }
   ],
   "source": [
    "df.plot.bar(color=\"blue\")\n",
    "plt.title('NYPD 311 Service Requests')\n",
    "plt.xlabel('Year')\n",
    "plt.ylabel('Service Requests')"
   ]
  },
  {
   "cell_type": "markdown",
   "metadata": {},
   "source": [
    "#### Compare the number of service requests from January to April in 2019"
   ]
  },
  {
   "cell_type": "code",
   "execution_count": 21,
   "metadata": {
    "scrolled": true
   },
   "outputs": [
    {
     "data": {
      "text/html": [
       "<div>\n",
       "<style scoped>\n",
       "    .dataframe tbody tr th:only-of-type {\n",
       "        vertical-align: middle;\n",
       "    }\n",
       "\n",
       "    .dataframe tbody tr th {\n",
       "        vertical-align: top;\n",
       "    }\n",
       "\n",
       "    .dataframe thead th {\n",
       "        text-align: right;\n",
       "    }\n",
       "</style>\n",
       "<table border=\"1\" class=\"dataframe\">\n",
       "  <thead>\n",
       "    <tr style=\"text-align: right;\">\n",
       "      <th></th>\n",
       "      <th>created_Month</th>\n",
       "    </tr>\n",
       "    <tr>\n",
       "      <th>created_Month</th>\n",
       "      <th></th>\n",
       "    </tr>\n",
       "  </thead>\n",
       "  <tbody>\n",
       "    <tr>\n",
       "      <th>Apr</th>\n",
       "      <td>62936</td>\n",
       "    </tr>\n",
       "    <tr>\n",
       "      <th>Feb</th>\n",
       "      <td>48961</td>\n",
       "    </tr>\n",
       "    <tr>\n",
       "      <th>Jan</th>\n",
       "      <td>53147</td>\n",
       "    </tr>\n",
       "    <tr>\n",
       "      <th>Mar</th>\n",
       "      <td>60545</td>\n",
       "    </tr>\n",
       "  </tbody>\n",
       "</table>\n",
       "</div>"
      ],
      "text/plain": [
       "               created_Month\n",
       "created_Month               \n",
       "Apr                    62936\n",
       "Feb                    48961\n",
       "Jan                    53147\n",
       "Mar                    60545"
      ]
     },
     "execution_count": 21,
     "metadata": {},
     "output_type": "execute_result"
    }
   ],
   "source": [
    "data_2019 = service_requests[(service_requests[\"created_Year\"]==\"19\")]\n",
    "monthly_data = data_2019.groupby('created_Month').created_Month.count()\n",
    "df1 = pd.DataFrame(monthly_data)\n",
    "df1"
   ]
  },
  {
   "cell_type": "code",
   "execution_count": 22,
   "metadata": {},
   "outputs": [
    {
     "data": {
      "text/plain": [
       "Text(0, 0.5, 'Service Requests')"
      ]
     },
     "execution_count": 22,
     "metadata": {},
     "output_type": "execute_result"
    },
    {
     "data": {
      "image/png": "[encoded data removed]",
      "text/plain": [
       "<Figure size 432x288 with 1 Axes>"
      ]
     },
     "metadata": {
      "needs_background": "light"
     },
     "output_type": "display_data"
    }
   ],
   "source": [
    "df1.plot.bar(color=\"green\")\n",
    "plt.title('2019 Jan-Aprl NYPD 311 Service Requests')\n",
    "plt.xlabel('Month')\n",
    "plt.ylabel('Service Requests')"
   ]
  },
  {
   "cell_type": "markdown",
   "metadata": {},
   "source": [
    "#### Compare the number of service requests from January to April in 2020"
   ]
  },
  {
   "cell_type": "code",
   "execution_count": 23,
   "metadata": {
    "scrolled": true
   },
   "outputs": [
    {
     "data": {
      "text/html": [
       "<div>\n",
       "<style scoped>\n",
       "    .dataframe tbody tr th:only-of-type {\n",
       "        vertical-align: middle;\n",
       "    }\n",
       "\n",
       "    .dataframe tbody tr th {\n",
       "        vertical-align: top;\n",
       "    }\n",
       "\n",
       "    .dataframe thead th {\n",
       "        text-align: right;\n",
       "    }\n",
       "</style>\n",
       "<table border=\"1\" class=\"dataframe\">\n",
       "  <thead>\n",
       "    <tr style=\"text-align: right;\">\n",
       "      <th></th>\n",
       "      <th>created_Month</th>\n",
       "    </tr>\n",
       "    <tr>\n",
       "      <th>created_Month</th>\n",
       "      <th></th>\n",
       "    </tr>\n",
       "  </thead>\n",
       "  <tbody>\n",
       "    <tr>\n",
       "      <th>Apr</th>\n",
       "      <td>70793</td>\n",
       "    </tr>\n",
       "    <tr>\n",
       "      <th>Feb</th>\n",
       "      <td>57201</td>\n",
       "    </tr>\n",
       "    <tr>\n",
       "      <th>Jan</th>\n",
       "      <td>62961</td>\n",
       "    </tr>\n",
       "    <tr>\n",
       "      <th>Mar</th>\n",
       "      <td>59865</td>\n",
       "    </tr>\n",
       "  </tbody>\n",
       "</table>\n",
       "</div>"
      ],
      "text/plain": [
       "               created_Month\n",
       "created_Month               \n",
       "Apr                    70793\n",
       "Feb                    57201\n",
       "Jan                    62961\n",
       "Mar                    59865"
      ]
     },
     "execution_count": 23,
     "metadata": {},
     "output_type": "execute_result"
    }
   ],
   "source": [
    "data_2020 = service_requests[(service_requests[\"created_Year\"]==\"20\")]\n",
    "monthly_data = data_2020.groupby('created_Month').created_Month.count()\n",
    "df2 = pd.DataFrame(monthly_data)\n",
    "df2"
   ]
  },
  {
   "cell_type": "code",
   "execution_count": 24,
   "metadata": {
    "scrolled": true
   },
   "outputs": [
    {
     "data": {
      "text/plain": [
       "Text(0, 0.5, 'Service Requests')"
      ]
     },
     "execution_count": 24,
     "metadata": {},
     "output_type": "execute_result"
    },
    {
     "data": {
      "image/png": "[encoded data removed]",
      "text/plain": [
       "<Figure size 432x288 with 1 Axes>"
      ]
     },
     "metadata": {
      "needs_background": "light"
     },
     "output_type": "display_data"
    }
   ],
   "source": [
    "df1.plot.bar(color='red')\n",
    "plt.title('2020 Jan-Aprl NYPD 311 Service Requests')\n",
    "plt.xlabel('Month')\n",
    "plt.ylabel('Service Requests')"
   ]
  },
  {
   "cell_type": "markdown",
   "metadata": {},
   "source": [
    "#### Review Complaint Types from January 2019"
   ]
  },
  {
   "cell_type": "code",
   "execution_count": 25,
   "metadata": {
    "scrolled": true
   },
   "outputs": [
    {
     "data": {
      "text/plain": [
       "Complaint_Type\n",
       "Noise                         22941\n",
       "Animal                            1\n",
       "Illegal Parking               13189\n",
       "Abandoned Vehicle                 1\n",
       "Derelict Vehicle               3327\n",
       "Blocked Driveway              11393\n",
       "Traffic                         250\n",
       "Animal Abuse                    919\n",
       "Graffiti                         16\n",
       "Vending                         189\n",
       "NonEmergency Police Matter      486\n",
       "Urinating in Public              19\n",
       "Illegal Fireworks                 4\n",
       "Homeless Encampment             158\n",
       "Drinking                         53\n",
       "Drug Activity                   127\n",
       "Panhandling                      37\n",
       "Posting Advertisement            10\n",
       "Bike/Roller/Skate Chronic        25\n",
       "Disorderly Youth                  2\n",
       "Name: Complaint_Type, dtype: int64"
      ]
     },
     "execution_count": 25,
     "metadata": {},
     "output_type": "execute_result"
    }
   ],
   "source": [
    "data_Jan2019 = data_2019[(data_2019[\"created_Month\"]==\"Jan\")]\n",
    "complaint_data_Jan2019 = data_Jan2019.groupby('Complaint_Type', sort=False).Complaint_Type.count()\n",
    "complaint_data_Jan2019.sort_index(ascending=False)\n",
    "complaint_data_Jan2019"
   ]
  },
  {
   "cell_type": "code",
   "execution_count": 26,
   "metadata": {
    "scrolled": true
   },
   "outputs": [
    {
     "data": {
      "text/plain": [
       "Text(0.5, 1.0, 'January 2019 Complaint Type')"
      ]
     },
     "execution_count": 26,
     "metadata": {},
     "output_type": "execute_result"
    },
    {
     "data": {
      "image/png": "[encoded data removed]",
      "text/plain": [
       "<Figure size 432x288 with 1 Axes>"
      ]
     },
     "metadata": {
      "needs_background": "light"
     },
     "output_type": "display_data"
    }
   ],
   "source": [
    "complaint_data_Jan2019.plot.barh(colormap='gist_rainbow').invert_yaxis()\n",
    "plt.ylabel('Compaint_Type')\n",
    "plt.xlabel('Count')\n",
    "plt.title('January 2019 Complaint Type')"
   ]
  },
  {
   "cell_type": "markdown",
   "metadata": {},
   "source": [
    "#### Review Complaint Types from Febuary 2019"
   ]
  },
  {
   "cell_type": "code",
   "execution_count": 27,
   "metadata": {
    "scrolled": true
   },
   "outputs": [
    {
     "data": {
      "text/plain": [
       "Complaint_Type\n",
       "Noise                         21713\n",
       "Abandoned Vehicle                 2\n",
       "Illegal Parking               12253\n",
       "Blocked Driveway               9906\n",
       "NonEmergency Police Matter      650\n",
       "Animal                            1\n",
       "Drug Activity                   113\n",
       "Derelict Vehicle               2955\n",
       "Animal Abuse                    654\n",
       "Homeless Encampment             131\n",
       "Traffic                         264\n",
       "Vending                         178\n",
       "Urinating in Public              24\n",
       "Graffiti                         13\n",
       "Panhandling                      13\n",
       "Drinking                         53\n",
       "Disorderly Youth                  4\n",
       "Posting Advertisement            18\n",
       "Bike/Roller/Skate Chronic        14\n",
       "Illegal Fireworks                 1\n",
       "Squeegee                          1\n",
       "Name: Complaint_Type, dtype: int64"
      ]
     },
     "execution_count": 27,
     "metadata": {},
     "output_type": "execute_result"
    }
   ],
   "source": [
    "data_Feb2019 = data_2019[(data_2019[\"created_Month\"]==\"Feb\")]\n",
    "complaint_data_Feb2019 = data_Feb2019.groupby('Complaint_Type', sort=False).Complaint_Type.count()\n",
    "complaint_data_Feb2019.sort_index(ascending=False)\n",
    "complaint_data_Feb2019"
   ]
  },
  {
   "cell_type": "code",
   "execution_count": 28,
   "metadata": {
    "scrolled": true
   },
   "outputs": [
    {
     "data": {
      "text/plain": [
       "Text(0.5, 1.0, 'February 2019 Complaint Type')"
      ]
     },
     "execution_count": 28,
     "metadata": {},
     "output_type": "execute_result"
    },
    {
     "data": {
      "image/png": "[encoded data removed]",
      "text/plain": [
       "<Figure size 432x288 with 1 Axes>"
      ]
     },
     "metadata": {
      "needs_background": "light"
     },
     "output_type": "display_data"
    }
   ],
   "source": [
    "complaint_data_Feb2019.plot.barh(colormap='gist_rainbow').invert_yaxis()\n",
    "plt.ylabel('Compaint_Type')\n",
    "plt.xlabel('Count')\n",
    "plt.title('February 2019 Complaint Type')"
   ]
  },
  {
   "cell_type": "markdown",
   "metadata": {},
   "source": [
    "#### Review Complaint Types from March 2019"
   ]
  },
  {
   "cell_type": "code",
   "execution_count": 29,
   "metadata": {
    "scrolled": true
   },
   "outputs": [
    {
     "data": {
      "text/plain": [
       "Complaint_Type\n",
       "Illegal Parking               15283\n",
       "Noise                         27796\n",
       "Blocked Driveway              11582\n",
       "NonEmergency Police Matter      751\n",
       "Abandoned Vehicle                 1\n",
       "Vending                         220\n",
       "Traffic                         327\n",
       "Drinking                         81\n",
       "Derelict Vehicle               3366\n",
       "Animal Abuse                    636\n",
       "Homeless Encampment             223\n",
       "Drug Activity                   134\n",
       "Panhandling                      39\n",
       "Urinating in Public              33\n",
       "Posting Advertisement             9\n",
       "Illegal Fireworks                 3\n",
       "Graffiti                         14\n",
       "Bike/Roller/Skate Chronic        39\n",
       "Disorderly Youth                  8\n",
       "Name: Complaint_Type, dtype: int64"
      ]
     },
     "execution_count": 29,
     "metadata": {},
     "output_type": "execute_result"
    }
   ],
   "source": [
    "data_Mar2019 = data_2019[(data_2019[\"created_Month\"]==\"Mar\")]\n",
    "complaint_data_Mar2019 = data_Mar2019.groupby('Complaint_Type', sort=False).Complaint_Type.count()\n",
    "complaint_data_Mar2019.sort_index(ascending=False)\n",
    "complaint_data_Mar2019"
   ]
  },
  {
   "cell_type": "code",
   "execution_count": 30,
   "metadata": {
    "scrolled": true
   },
   "outputs": [
    {
     "data": {
      "text/plain": [
       "Text(0.5, 1.0, 'March 2019 Complaint Type')"
      ]
     },
     "execution_count": 30,
     "metadata": {},
     "output_type": "execute_result"
    },
    {
     "data": {
      "image/png": "[encoded data removed]",
      "text/plain": [
       "<Figure size 432x288 with 1 Axes>"
      ]
     },
     "metadata": {
      "needs_background": "light"
     },
     "output_type": "display_data"
    }
   ],
   "source": [
    "complaint_data_Mar2019.plot.barh(colormap='gist_rainbow').invert_yaxis()\n",
    "plt.ylabel('Compaint_Type')\n",
    "plt.xlabel('Count')\n",
    "plt.title('March 2019 Complaint Type')"
   ]
  },
  {
   "cell_type": "markdown",
   "metadata": {},
   "source": [
    "#### Review Complaint Types from April 2019"
   ]
  },
  {
   "cell_type": "code",
   "execution_count": 31,
   "metadata": {
    "scrolled": true
   },
   "outputs": [
    {
     "data": {
      "text/plain": [
       "Complaint_Type\n",
       "Blocked Driveway              10001\n",
       "Noise                         32331\n",
       "Illegal Parking               14580\n",
       "NonEmergency Police Matter      706\n",
       "Derelict Vehicle               3275\n",
       "Traffic                         337\n",
       "Animal Abuse                    616\n",
       "Homeless Encampment             284\n",
       "Drinking                        102\n",
       "Vending                         390\n",
       "Panhandling                      46\n",
       "Disorderly Youth                 10\n",
       "Drug Activity                   134\n",
       "Illegal Fireworks                 3\n",
       "Graffiti                         12\n",
       "Posting Advertisement            10\n",
       "Urinating in Public              49\n",
       "Bike/Roller/Skate Chronic        50\n",
       "Name: Complaint_Type, dtype: int64"
      ]
     },
     "execution_count": 31,
     "metadata": {},
     "output_type": "execute_result"
    }
   ],
   "source": [
    "data_Apr2019 = data_2019[(data_2019[\"created_Month\"]==\"Apr\")]\n",
    "complaint_data_Apr2019 = data_Apr2019.groupby('Complaint_Type', sort=False).Complaint_Type.count()\n",
    "complaint_data_Apr2019.sort_index(ascending=False)\n",
    "complaint_data_Apr2019"
   ]
  },
  {
   "cell_type": "code",
   "execution_count": 32,
   "metadata": {
    "scrolled": true
   },
   "outputs": [
    {
     "data": {
      "text/plain": [
       "Text(0.5, 1.0, 'April 2019 Complaint Type')"
      ]
     },
     "execution_count": 32,
     "metadata": {},
     "output_type": "execute_result"
    },
    {
     "data": {
      "image/png": "[encoded data removed]",
      "text/plain": [
       "<Figure size 432x288 with 1 Axes>"
      ]
     },
     "metadata": {
      "needs_background": "light"
     },
     "output_type": "display_data"
    }
   ],
   "source": [
    "complaint_data_Apr2019.plot.barh(colormap='gist_rainbow').invert_yaxis()\n",
    "plt.ylabel('Compaint_Type')\n",
    "plt.xlabel('Count')\n",
    "plt.title('April 2019 Complaint Type')"
   ]
  },
  {
   "cell_type": "markdown",
   "metadata": {},
   "source": [
    "#### Review Complaint Types from January 2020"
   ]
  },
  {
   "cell_type": "code",
   "execution_count": 33,
   "metadata": {
    "scrolled": true
   },
   "outputs": [
    {
     "data": {
      "text/plain": [
       "Complaint_Type\n",
       "Noise                         27196\n",
       "Illegal Parking               16937\n",
       "Abandoned Vehicle              3760\n",
       "Blocked Driveway              11415\n",
       "Homeless Encampment             178\n",
       "Drinking                        129\n",
       "Drug Activity                   243\n",
       "Animal                          738\n",
       "NonEmergency Police Matter      706\n",
       "Posting Advertisement             6\n",
       "Vending                         222\n",
       "Urinating in Public              20\n",
       "Bike/Roller/Skate Chronic        26\n",
       "Graffiti                         71\n",
       "Traffic                         208\n",
       "Panhandling                     560\n",
       "Illegal Fireworks                17\n",
       "Homeless Street Condition       523\n",
       "Disorderly Youth                  6\n",
       "Name: Complaint_Type, dtype: int64"
      ]
     },
     "execution_count": 33,
     "metadata": {},
     "output_type": "execute_result"
    }
   ],
   "source": [
    "data_Jan2020 = data_2020[(data_2020[\"created_Month\"]==\"Jan\")]\n",
    "complaint_data_Jan2020 = data_Jan2020.groupby('Complaint_Type', sort=False).Complaint_Type.count()\n",
    "complaint_data_Jan2020.sort_index(ascending=False)\n",
    "complaint_data_Jan2020"
   ]
  },
  {
   "cell_type": "code",
   "execution_count": 34,
   "metadata": {
    "scrolled": true
   },
   "outputs": [
    {
     "data": {
      "text/plain": [
       "Text(0.5, 1.0, 'January 2020 Complaint Type')"
      ]
     },
     "execution_count": 34,
     "metadata": {},
     "output_type": "execute_result"
    },
    {
     "data": {
      "image/png": "[encoded data removed]",
      "text/plain": [
       "<Figure size 432x288 with 1 Axes>"
      ]
     },
     "metadata": {
      "needs_background": "light"
     },
     "output_type": "display_data"
    }
   ],
   "source": [
    "complaint_data_Jan2020.plot.barh(colormap='gist_rainbow').invert_yaxis()\n",
    "plt.ylabel('Compaint_Type')\n",
    "plt.xlabel('Count')\n",
    "plt.title('January 2020 Complaint Type')"
   ]
  },
  {
   "cell_type": "markdown",
   "metadata": {},
   "source": [
    "#### Review Complaint Types from February 2020"
   ]
  },
  {
   "cell_type": "code",
   "execution_count": 35,
   "metadata": {
    "scrolled": true
   },
   "outputs": [
    {
     "data": {
      "text/plain": [
       "Complaint_Type\n",
       "Blocked Driveway              10126\n",
       "Abandoned Vehicle              3371\n",
       "Animal                          625\n",
       "Illegal Parking               15163\n",
       "Noise                         25199\n",
       "NonEmergency Police Matter      649\n",
       "Graffiti                         62\n",
       "Drinking                         85\n",
       "Drug Activity                   228\n",
       "Homeless Street Condition       609\n",
       "Vending                         239\n",
       "Illegal Fireworks                 4\n",
       "Panhandling                     579\n",
       "Traffic                         184\n",
       "Disorderly Youth                  5\n",
       "Bike/Roller/Skate Chronic        29\n",
       "Urinating in Public              38\n",
       "Posting Advertisement             5\n",
       "Squeegee                          1\n",
       "Name: Complaint_Type, dtype: int64"
      ]
     },
     "execution_count": 35,
     "metadata": {},
     "output_type": "execute_result"
    }
   ],
   "source": [
    "data_Feb2020 = data_2020[(data_2020[\"created_Month\"]==\"Feb\")]\n",
    "complaint_data_Feb2020 = data_Feb2020.groupby('Complaint_Type', sort=False).Complaint_Type.count()\n",
    "complaint_data_Feb2020.sort_index(ascending=False)\n",
    "complaint_data_Feb2020"
   ]
  },
  {
   "cell_type": "code",
   "execution_count": 36,
   "metadata": {
    "scrolled": true
   },
   "outputs": [
    {
     "data": {
      "text/plain": [
       "Text(0.5, 1.0, 'February 2020 Complaint Type')"
      ]
     },
     "execution_count": 36,
     "metadata": {},
     "output_type": "execute_result"
    },
    {
     "data": {
      "image/png": "[encoded data removed]",
      "text/plain": [
       "<Figure size 432x288 with 1 Axes>"
      ]
     },
     "metadata": {
      "needs_background": "light"
     },
     "output_type": "display_data"
    }
   ],
   "source": [
    "complaint_data_Feb2020.plot.barh(colormap='gist_rainbow').invert_yaxis()\n",
    "plt.ylabel('Compaint_Type')\n",
    "plt.xlabel('Count')\n",
    "plt.title('February 2020 Complaint Type')"
   ]
  },
  {
   "cell_type": "markdown",
   "metadata": {},
   "source": [
    "#### Review Complaint Types from March 2020"
   ]
  },
  {
   "cell_type": "code",
   "execution_count": 37,
   "metadata": {
    "scrolled": true
   },
   "outputs": [
    {
     "data": {
      "text/plain": [
       "Complaint_Type\n",
       "Noise                         32579\n",
       "Illegal Parking               12732\n",
       "Blocked Driveway               7741\n",
       "Urinating in Public              65\n",
       "Abandoned Vehicle              2500\n",
       "Homeless Street Condition       452\n",
       "Traffic                         154\n",
       "Drinking                        134\n",
       "Animal                          520\n",
       "NonEmergency Police Matter     2333\n",
       "Panhandling                      17\n",
       "Graffiti                         70\n",
       "Drug Activity                   272\n",
       "Vending                         233\n",
       "Bike/Roller/Skate Chronic        30\n",
       "Illegal Fireworks                 7\n",
       "Posting Advertisement             7\n",
       "Disorderly Youth                 19\n",
       "Name: Complaint_Type, dtype: int64"
      ]
     },
     "execution_count": 37,
     "metadata": {},
     "output_type": "execute_result"
    }
   ],
   "source": [
    "data_Mar2020 = data_2020[(data_2020[\"created_Month\"]==\"Mar\")]\n",
    "complaint_data_Mar2020 = data_Mar2020.groupby('Complaint_Type', sort=False).Complaint_Type.count()\n",
    "complaint_data_Mar2020.sort_index(ascending=False)\n",
    "complaint_data_Mar2020"
   ]
  },
  {
   "cell_type": "code",
   "execution_count": 38,
   "metadata": {
    "scrolled": true
   },
   "outputs": [
    {
     "data": {
      "text/plain": [
       "Text(0.5, 1.0, 'March 2020 Complaint Type')"
      ]
     },
     "execution_count": 38,
     "metadata": {},
     "output_type": "execute_result"
    },
    {
     "data": {
      "image/png": "[encoded data removed]",
      "text/plain": [
       "<Figure size 432x288 with 1 Axes>"
      ]
     },
     "metadata": {
      "needs_background": "light"
     },
     "output_type": "display_data"
    }
   ],
   "source": [
    "complaint_data_Mar2020.plot.barh(colormap='gist_rainbow').invert_yaxis()\n",
    "plt.ylabel('Compaint_Type')\n",
    "plt.xlabel('Count')\n",
    "plt.title('March 2020 Complaint Type')"
   ]
  },
  {
   "cell_type": "markdown",
   "metadata": {},
   "source": [
    "#### Review Complaint Types from April 2020"
   ]
  },
  {
   "cell_type": "code",
   "execution_count": 39,
   "metadata": {
    "scrolled": true
   },
   "outputs": [
    {
     "data": {
      "text/plain": [
       "Complaint_Type\n",
       "NonEmergency Police Matter    22388\n",
       "Noise                         35866\n",
       "Traffic                         141\n",
       "Illegal Parking                6544\n",
       "Blocked Driveway               3083\n",
       "Drug Activity                   256\n",
       "Abandoned Vehicle               994\n",
       "Homeless Street Condition       734\n",
       "Animal                          398\n",
       "Graffiti                         98\n",
       "Drinking                         73\n",
       "Panhandling                      23\n",
       "Urinating in Public              51\n",
       "Vending                          70\n",
       "Homeless Encampment              15\n",
       "Bike/Roller/Skate Chronic        25\n",
       "Disorderly Youth                 12\n",
       "Illegal Fireworks                18\n",
       "Posting Advertisement             3\n",
       "Squeegee                          1\n",
       "Name: Complaint_Type, dtype: int64"
      ]
     },
     "execution_count": 39,
     "metadata": {},
     "output_type": "execute_result"
    }
   ],
   "source": [
    "data_Apr2020 = data_2020[(data_2020[\"created_Month\"]==\"Apr\")]\n",
    "complaint_data_Apr2020 = data_Apr2020.groupby('Complaint_Type', sort=False).Complaint_Type.count()\n",
    "complaint_data_Apr2020.sort_index(ascending=False)\n",
    "complaint_data_Apr2020"
   ]
  },
  {
   "cell_type": "code",
   "execution_count": 40,
   "metadata": {
    "scrolled": false
   },
   "outputs": [
    {
     "data": {
      "text/plain": [
       "Text(0.5, 1.0, 'April 2020 Complaint Type')"
      ]
     },
     "execution_count": 40,
     "metadata": {},
     "output_type": "execute_result"
    },
    {
     "data": {
      "image/png": "[encoded data removed]",
      "text/plain": [
       "<Figure size 432x288 with 1 Axes>"
      ]
     },
     "metadata": {
      "needs_background": "light"
     },
     "output_type": "display_data"
    }
   ],
   "source": [
    "complaint_data_Apr2020.plot.barh(colormap='gist_rainbow').invert_yaxis()\n",
    "plt.ylabel('Compaint_Type')\n",
    "plt.xlabel('Count')\n",
    "plt.title('April 2020 Complaint Type')"
   ]
  },
  {
   "cell_type": "code",
   "execution_count": 45,
   "metadata": {},
   "outputs": [
    {
     "data": {
      "text/html": [
       "<div>\n",
       "<style scoped>\n",
       "    .dataframe tbody tr th:only-of-type {\n",
       "        vertical-align: middle;\n",
       "    }\n",
       "\n",
       "    .dataframe tbody tr th {\n",
       "        vertical-align: top;\n",
       "    }\n",
       "\n",
       "    .dataframe thead th {\n",
       "        text-align: right;\n",
       "    }\n",
       "</style>\n",
       "<table border=\"1\" class=\"dataframe\">\n",
       "  <thead>\n",
       "    <tr style=\"text-align: right;\">\n",
       "      <th></th>\n",
       "      <th>Unique_Key</th>\n",
       "      <th>created_Year</th>\n",
       "      <th>created_Month</th>\n",
       "      <th>Closed_Date</th>\n",
       "      <th>Agency</th>\n",
       "      <th>Agency_Name</th>\n",
       "      <th>Complaint_Type</th>\n",
       "      <th>Incident_Zip</th>\n",
       "    </tr>\n",
       "    <tr>\n",
       "      <th>Status</th>\n",
       "      <th></th>\n",
       "      <th></th>\n",
       "      <th></th>\n",
       "      <th></th>\n",
       "      <th></th>\n",
       "      <th></th>\n",
       "      <th></th>\n",
       "      <th></th>\n",
       "    </tr>\n",
       "  </thead>\n",
       "  <tbody>\n",
       "    <tr>\n",
       "      <th>Closed</th>\n",
       "      <td>474852</td>\n",
       "      <td>474852</td>\n",
       "      <td>474852</td>\n",
       "      <td>474852</td>\n",
       "      <td>474852</td>\n",
       "      <td>474852</td>\n",
       "      <td>474852</td>\n",
       "      <td>474274</td>\n",
       "    </tr>\n",
       "    <tr>\n",
       "      <th>In Progress</th>\n",
       "      <td>1557</td>\n",
       "      <td>1557</td>\n",
       "      <td>1557</td>\n",
       "      <td>0</td>\n",
       "      <td>1557</td>\n",
       "      <td>1557</td>\n",
       "      <td>1557</td>\n",
       "      <td>1557</td>\n",
       "    </tr>\n",
       "  </tbody>\n",
       "</table>\n",
       "</div>"
      ],
      "text/plain": [
       "             Unique_Key  created_Year  created_Month  Closed_Date  Agency  \\\n",
       "Status                                                                      \n",
       "Closed           474852        474852         474852       474852  474852   \n",
       "In Progress        1557          1557           1557            0    1557   \n",
       "\n",
       "             Agency_Name  Complaint_Type  Incident_Zip  \n",
       "Status                                                  \n",
       "Closed            474852          474852        474274  \n",
       "In Progress         1557            1557          1557  "
      ]
     },
     "execution_count": 45,
     "metadata": {},
     "output_type": "execute_result"
    }
   ],
   "source": [
    "output.groupby('Status').count()"
   ]
  },
  {
   "cell_type": "code",
   "execution_count": 43,
   "metadata": {
    "scrolled": true
   },
   "outputs": [
    {
     "data": {
      "text/html": [
       "<div>\n",
       "<style scoped>\n",
       "    .dataframe tbody tr th:only-of-type {\n",
       "        vertical-align: middle;\n",
       "    }\n",
       "\n",
       "    .dataframe tbody tr th {\n",
       "        vertical-align: top;\n",
       "    }\n",
       "\n",
       "    .dataframe thead th {\n",
       "        text-align: right;\n",
       "    }\n",
       "</style>\n",
       "<table border=\"1\" class=\"dataframe\">\n",
       "  <thead>\n",
       "    <tr style=\"text-align: right;\">\n",
       "      <th></th>\n",
       "      <th></th>\n",
       "      <th></th>\n",
       "      <th>Unique_Key</th>\n",
       "      <th>Closed_Date</th>\n",
       "      <th>Agency</th>\n",
       "      <th>Agency_Name</th>\n",
       "      <th>Complaint_Type</th>\n",
       "      <th>Incident_Zip</th>\n",
       "    </tr>\n",
       "    <tr>\n",
       "      <th>created_Year</th>\n",
       "      <th>created_Month</th>\n",
       "      <th>Status</th>\n",
       "      <th></th>\n",
       "      <th></th>\n",
       "      <th></th>\n",
       "      <th></th>\n",
       "      <th></th>\n",
       "      <th></th>\n",
       "    </tr>\n",
       "  </thead>\n",
       "  <tbody>\n",
       "    <tr>\n",
       "      <th rowspan=\"4\" valign=\"top\">19</th>\n",
       "      <th>Apr</th>\n",
       "      <th>Closed</th>\n",
       "      <td>62936</td>\n",
       "      <td>62936</td>\n",
       "      <td>62936</td>\n",
       "      <td>62936</td>\n",
       "      <td>62936</td>\n",
       "      <td>62844</td>\n",
       "    </tr>\n",
       "    <tr>\n",
       "      <th>Feb</th>\n",
       "      <th>Closed</th>\n",
       "      <td>48961</td>\n",
       "      <td>48961</td>\n",
       "      <td>48961</td>\n",
       "      <td>48961</td>\n",
       "      <td>48961</td>\n",
       "      <td>48901</td>\n",
       "    </tr>\n",
       "    <tr>\n",
       "      <th>Jan</th>\n",
       "      <th>Closed</th>\n",
       "      <td>53147</td>\n",
       "      <td>53147</td>\n",
       "      <td>53147</td>\n",
       "      <td>53147</td>\n",
       "      <td>53147</td>\n",
       "      <td>53093</td>\n",
       "    </tr>\n",
       "    <tr>\n",
       "      <th>Mar</th>\n",
       "      <th>Closed</th>\n",
       "      <td>60545</td>\n",
       "      <td>60545</td>\n",
       "      <td>60545</td>\n",
       "      <td>60545</td>\n",
       "      <td>60545</td>\n",
       "      <td>60480</td>\n",
       "    </tr>\n",
       "    <tr>\n",
       "      <th rowspan=\"8\" valign=\"top\">20</th>\n",
       "      <th rowspan=\"2\" valign=\"top\">Apr</th>\n",
       "      <th>Closed</th>\n",
       "      <td>70483</td>\n",
       "      <td>70483</td>\n",
       "      <td>70483</td>\n",
       "      <td>70483</td>\n",
       "      <td>70483</td>\n",
       "      <td>70249</td>\n",
       "    </tr>\n",
       "    <tr>\n",
       "      <th>In Progress</th>\n",
       "      <td>310</td>\n",
       "      <td>0</td>\n",
       "      <td>310</td>\n",
       "      <td>310</td>\n",
       "      <td>310</td>\n",
       "      <td>310</td>\n",
       "    </tr>\n",
       "    <tr>\n",
       "      <th rowspan=\"2\" valign=\"top\">Feb</th>\n",
       "      <th>Closed</th>\n",
       "      <td>56513</td>\n",
       "      <td>56513</td>\n",
       "      <td>56513</td>\n",
       "      <td>56513</td>\n",
       "      <td>56513</td>\n",
       "      <td>56491</td>\n",
       "    </tr>\n",
       "    <tr>\n",
       "      <th>In Progress</th>\n",
       "      <td>688</td>\n",
       "      <td>0</td>\n",
       "      <td>688</td>\n",
       "      <td>688</td>\n",
       "      <td>688</td>\n",
       "      <td>688</td>\n",
       "    </tr>\n",
       "    <tr>\n",
       "      <th rowspan=\"2\" valign=\"top\">Jan</th>\n",
       "      <th>Closed</th>\n",
       "      <td>62418</td>\n",
       "      <td>62418</td>\n",
       "      <td>62418</td>\n",
       "      <td>62418</td>\n",
       "      <td>62418</td>\n",
       "      <td>62389</td>\n",
       "    </tr>\n",
       "    <tr>\n",
       "      <th>In Progress</th>\n",
       "      <td>543</td>\n",
       "      <td>0</td>\n",
       "      <td>543</td>\n",
       "      <td>543</td>\n",
       "      <td>543</td>\n",
       "      <td>543</td>\n",
       "    </tr>\n",
       "    <tr>\n",
       "      <th rowspan=\"2\" valign=\"top\">Mar</th>\n",
       "      <th>Closed</th>\n",
       "      <td>59849</td>\n",
       "      <td>59849</td>\n",
       "      <td>59849</td>\n",
       "      <td>59849</td>\n",
       "      <td>59849</td>\n",
       "      <td>59827</td>\n",
       "    </tr>\n",
       "    <tr>\n",
       "      <th>In Progress</th>\n",
       "      <td>16</td>\n",
       "      <td>0</td>\n",
       "      <td>16</td>\n",
       "      <td>16</td>\n",
       "      <td>16</td>\n",
       "      <td>16</td>\n",
       "    </tr>\n",
       "  </tbody>\n",
       "</table>\n",
       "</div>"
      ],
      "text/plain": [
       "                                        Unique_Key  Closed_Date  Agency  \\\n",
       "created_Year created_Month Status                                         \n",
       "19           Apr           Closed            62936        62936   62936   \n",
       "             Feb           Closed            48961        48961   48961   \n",
       "             Jan           Closed            53147        53147   53147   \n",
       "             Mar           Closed            60545        60545   60545   \n",
       "20           Apr           Closed            70483        70483   70483   \n",
       "                           In Progress         310            0     310   \n",
       "             Feb           Closed            56513        56513   56513   \n",
       "                           In Progress         688            0     688   \n",
       "             Jan           Closed            62418        62418   62418   \n",
       "                           In Progress         543            0     543   \n",
       "             Mar           Closed            59849        59849   59849   \n",
       "                           In Progress          16            0      16   \n",
       "\n",
       "                                        Agency_Name  Complaint_Type  \\\n",
       "created_Year created_Month Status                                     \n",
       "19           Apr           Closed             62936           62936   \n",
       "             Feb           Closed             48961           48961   \n",
       "             Jan           Closed             53147           53147   \n",
       "             Mar           Closed             60545           60545   \n",
       "20           Apr           Closed             70483           70483   \n",
       "                           In Progress          310             310   \n",
       "             Feb           Closed             56513           56513   \n",
       "                           In Progress          688             688   \n",
       "             Jan           Closed             62418           62418   \n",
       "                           In Progress          543             543   \n",
       "             Mar           Closed             59849           59849   \n",
       "                           In Progress           16              16   \n",
       "\n",
       "                                        Incident_Zip  \n",
       "created_Year created_Month Status                     \n",
       "19           Apr           Closed              62844  \n",
       "             Feb           Closed              48901  \n",
       "             Jan           Closed              53093  \n",
       "             Mar           Closed              60480  \n",
       "20           Apr           Closed              70249  \n",
       "                           In Progress           310  \n",
       "             Feb           Closed              56491  \n",
       "                           In Progress           688  \n",
       "             Jan           Closed              62389  \n",
       "                           In Progress           543  \n",
       "             Mar           Closed              59827  \n",
       "                           In Progress            16  "
      ]
     },
     "execution_count": 43,
     "metadata": {},
     "output_type": "execute_result"
    }
   ],
   "source": [
    "output.groupby(['created_Year', 'created_Month', 'Status']).count()"
   ]
  },
  {
   "cell_type": "code",
   "execution_count": 47,
   "metadata": {
    "scrolled": false
   },
   "outputs": [
    {
     "data": {
      "text/plain": [
       "Status       Complaint_Type            \n",
       "Closed       Abandoned Vehicle              10561\n",
       "             Animal                          2270\n",
       "             Animal Abuse                    2825\n",
       "             Bike/Roller/Skate Chronic        238\n",
       "             Blocked Driveway               75018\n",
       "             Derelict Vehicle               12923\n",
       "             Disorderly Youth                  65\n",
       "             Drinking                         709\n",
       "             Drug Activity                   1501\n",
       "             Graffiti                         356\n",
       "             Homeless Encampment              989\n",
       "             Homeless Street Condition       2302\n",
       "             Illegal Fireworks                 56\n",
       "             Illegal Parking               106426\n",
       "             Noise                         224701\n",
       "             NonEmergency Police Matter     28626\n",
       "             Panhandling                     1313\n",
       "             Posting Advertisement             68\n",
       "             Squeegee                           3\n",
       "             Traffic                         1863\n",
       "             Urinating in Public              299\n",
       "             Vending                         1740\n",
       "In Progress  Abandoned Vehicle                 68\n",
       "             Animal                            13\n",
       "             Blocked Driveway                 229\n",
       "             Disorderly Youth                   1\n",
       "             Drinking                           1\n",
       "             Drug Activity                      6\n",
       "             Homeless Street Condition         16\n",
       "             Illegal Fireworks                  1\n",
       "             Illegal Parking                  255\n",
       "             Noise                            920\n",
       "             NonEmergency Police Matter        43\n",
       "             Panhandling                        1\n",
       "             Traffic                            2\n",
       "             Vending                            1\n",
       "Name: Complaint_Type, dtype: int64"
      ]
     },
     "execution_count": 47,
     "metadata": {},
     "output_type": "execute_result"
    }
   ],
   "source": [
    "cases_by_status = output.groupby(['Status', 'Complaint_Type']).Complaint_Type.count()\n",
    "cases_by_status"
   ]
  },
  {
   "cell_type": "code",
   "execution_count": 50,
   "metadata": {
    "scrolled": true
   },
   "outputs": [
    {
     "data": {
      "text/plain": [
       "Text(0.5, 1.0, 'Cases still In Progress as of May 2020')"
      ]
     },
     "execution_count": 50,
     "metadata": {},
     "output_type": "execute_result"
    },
    {
     "data": {
      "image/png": "[encoded data removed]",
      "text/plain": [
       "<Figure size 432x288 with 1 Axes>"
      ]
     },
     "metadata": {
      "needs_background": "light"
     },
     "output_type": "display_data"
    }
   ],
   "source": [
    "open_cases = output[(output[\"Status\"]==\"In Progress\")]\n",
    "open_cases_type = open_cases.groupby('Complaint_Type', sort=False).Complaint_Type.count()\n",
    "\n",
    "open_cases_type.plot.barh(colormap='gist_rainbow').invert_yaxis()\n",
    "plt.ylabel('Compaint_Type')\n",
    "plt.xlabel('Count')\n",
    "plt.title('Cases still In Progress as of May 2020')"
   ]
  },
  {
   "cell_type": "markdown",
   "metadata": {},
   "source": [
    "## Conclusion\n",
    "After comparing NYPD 311 service request calls placed in January-April 2019 and January-April 2020 within NYC area, I arrived at the following conclusions:\n",
    "\n",
    "(1) Total service requests in 2019 Jan-Apr was 225,589 and it was 250,820 in the same time frame in 2020. Therefore, it increased from 2019 to 2020.\n",
    "\n",
    "(2) The number of service requests increased each corresponding month in 2019 to 2020 except in March, where it decreased from 65,545 to 59,865.\n",
    "\n",
    "(3) In Jan, Feb, Mar, and Apr of 2019, as well as Jan, Feb, and Mar of 2020, the top three types of Complaints were, Noise, Illegal Parking and Blocked Driveway, in that order.\n",
    "\n",
    "(4) In April 2020, the top three complaint types were Noise, NonEmergency Police Matter, and Illegal Parking (in that order). Rise in Nonemergency police matter complaints and decrease in Illegal Parking and Blocked Driveway complaints may be explained by the COVID-19 stay-at-home lockdown in NYC from mid-March to May 2020.\n",
    "\n",
    "(5) There are still 1,557 cases open to date, the information gets updated daily. Most of them are noise complaints"
   ]
  }
 ],
 "metadata": {
  "kernelspec": {
   "display_name": "Python 3",
   "language": "python",
   "name": "python3"
  },
  "language_info": {
   "codemirror_mode": {
    "name": "ipython",
    "version": 3
   },
   "file_extension": ".py",
   "mimetype": "text/x-python",
   "name": "python",
   "nbconvert_exporter": "python",
   "pygments_lexer": "ipython3",
   "version": "3.7.7"
  }
 },
 "nbformat": 4,
 "nbformat_minor": 4
}
